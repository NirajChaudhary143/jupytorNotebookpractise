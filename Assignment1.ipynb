{
 "cells": [
  {
   "cell_type": "code",
   "execution_count": 41,
   "id": "df79e3cb",
   "metadata": {},
   "outputs": [
    {
     "name": "stdout",
     "output_type": "stream",
     "text": [
      "f(2, 3)-> 6\n",
      "Name- Niraj Chadhary\n",
      "Roll No. 13\n"
     ]
    }
   ],
   "source": [
    "def addOrMull(*args):\n",
    "    length = len(args)\n",
    "    sum = 0\n",
    "    product = 1\n",
    "    for x in args:\n",
    "        if length > 2:\n",
    "            sum+= x\n",
    "            result = sum\n",
    "        else:\n",
    "            product*= x\n",
    "            result = product\n",
    "    print(\"f\" + str(args) + \"-> \"+ str(result))\n",
    "addOrMull(2,3)\n",
    "print(\"Name- Niraj Chadhary\\nRoll No. 13\")\n",
    "            "
   ]
  },
  {
   "cell_type": "code",
   "execution_count": null,
   "id": "d3efca34",
   "metadata": {},
   "outputs": [],
   "source": []
  }
 ],
 "metadata": {
  "kernelspec": {
   "display_name": "Python 3 (ipykernel)",
   "language": "python",
   "name": "python3"
  },
  "language_info": {
   "codemirror_mode": {
    "name": "ipython",
    "version": 3
   },
   "file_extension": ".py",
   "mimetype": "text/x-python",
   "name": "python",
   "nbconvert_exporter": "python",
   "pygments_lexer": "ipython3",
   "version": "3.9.13"
  }
 },
 "nbformat": 4,
 "nbformat_minor": 5
}
