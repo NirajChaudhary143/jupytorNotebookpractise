{
 "cells": [
  {
   "cell_type": "markdown",
   "id": "dc9c828e",
   "metadata": {},
   "source": [
    "# Evaluation of classification\n",
    "    i. confusion matrix\n",
    "    ii. Accuracy\n",
    "    iii. Precision\n",
    "    iv. Recall\n",
    "    v. F1 Score\n",
    "    vi. TPR( True Positive Rate)\n",
    "    vii. FPR( False Positive Rate)\n",
    "    viii. ROC/AUC"
   ]
  },
  {
   "cell_type": "code",
   "execution_count": null,
   "id": "bec9de53",
   "metadata": {},
   "outputs": [],
   "source": []
  }
 ],
 "metadata": {
  "kernelspec": {
   "display_name": "Python 3 (ipykernel)",
   "language": "python",
   "name": "python3"
  },
  "language_info": {
   "codemirror_mode": {
    "name": "ipython",
    "version": 3
   },
   "file_extension": ".py",
   "mimetype": "text/x-python",
   "name": "python",
   "nbconvert_exporter": "python",
   "pygments_lexer": "ipython3",
   "version": "3.9.13"
  }
 },
 "nbformat": 4,
 "nbformat_minor": 5
}
