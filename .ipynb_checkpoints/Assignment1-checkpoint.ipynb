{
 "cells": [
  {
   "cell_type": "code",
   "execution_count": 37,
   "id": "41a3ddb5",
   "metadata": {},
   "outputs": [
    {
     "name": "stdout",
     "output_type": "stream",
     "text": [
      "f(2, 3, 4)-> 9\n"
     ]
    }
   ],
   "source": [
    "def addOrMull(*args):\n",
    "    length = len(args)\n",
    "    sum = 0\n",
    "    product = 1\n",
    "    for x in args:\n",
    "        if length > 2:\n",
    "            sum+= x\n",
    "            result = sum\n",
    "        else:\n",
    "            product*= x\n",
    "            result = product\n",
    "    print(\"f\" + str(args) + \"-> \"+ str(result))\n",
    "addOrMull(2,3,4)\n",
    "            "
   ]
  },
  {
   "cell_type": "code",
   "execution_count": null,
   "id": "bcc47e74",
   "metadata": {},
   "outputs": [],
   "source": []
  }
 ],
 "metadata": {
  "kernelspec": {
   "display_name": "Python 3 (ipykernel)",
   "language": "python",
   "name": "python3"
  },
  "language_info": {
   "codemirror_mode": {
    "name": "ipython",
    "version": 3
   },
   "file_extension": ".py",
   "mimetype": "text/x-python",
   "name": "python",
   "nbconvert_exporter": "python",
   "pygments_lexer": "ipython3",
   "version": "3.9.13"
  }
 },
 "nbformat": 4,
 "nbformat_minor": 5
}
