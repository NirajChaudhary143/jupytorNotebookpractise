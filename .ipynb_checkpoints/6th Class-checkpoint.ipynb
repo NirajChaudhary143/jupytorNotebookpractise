{
 "cells": [
  {
   "cell_type": "markdown",
   "id": "7bc76ce5",
   "metadata": {},
   "source": [
    "Class And Object"
   ]
  },
  {
   "cell_type": "markdown",
   "id": "d02116f1",
   "metadata": {},
   "source": [
    "WAP that returns a list with odd/even numbes between 4 & 30"
   ]
  },
  {
   "cell_type": "code",
   "execution_count": 20,
   "id": "c934bda9",
   "metadata": {},
   "outputs": [
    {
     "name": "stdout",
     "output_type": "stream",
     "text": [
      "[3, 5, 7, 9, 11, 13, 15, 17, 19, 21, 23, 25, 27, 29]\n"
     ]
    }
   ],
   "source": [
    "odd = []\n",
    "for x in range(3,30):\n",
    "    if x%2!=0:\n",
    "        odd.append(x)\n",
    "print(odd)"
   ]
  },
  {
   "cell_type": "code",
   "execution_count": 21,
   "id": "b2b28dbb",
   "metadata": {},
   "outputs": [
    {
     "name": "stdout",
     "output_type": "stream",
     "text": [
      "[3, 5, 7, 9, 11, 13, 15, 17, 19, 21, 23, 25, 27, 29]\n"
     ]
    }
   ],
   "source": [
    "odd1 = []\n",
    "for x in range(3,31,2):\n",
    "    odd1.append(x)\n",
    "print(odd1)"
   ]
  },
  {
   "cell_type": "code",
   "execution_count": 22,
   "id": "ead02ba7",
   "metadata": {},
   "outputs": [
    {
     "data": {
      "text/plain": [
       "[4, 6, 8, 10, 12, 14, 16, 18, 20, 22, 24, 26, 28, 30]"
      ]
     },
     "execution_count": 22,
     "metadata": {},
     "output_type": "execute_result"
    }
   ],
   "source": [
    "even2 = [x for x in range(4,31,2)]\n",
    "even2"
   ]
  },
  {
   "cell_type": "markdown",
   "id": "2da6fa0a",
   "metadata": {},
   "source": [
    "['ABC',' ','CDE',' ']"
   ]
  },
  {
   "cell_type": "code",
   "execution_count": 28,
   "id": "cf738a06",
   "metadata": {},
   "outputs": [
    {
     "name": "stdout",
     "output_type": "stream",
     "text": [
      "['ABC', 'CDE', 'E']\n"
     ]
    }
   ],
   "source": [
    "list1 = ['ABC','','CDE','E','']\n",
    "list2 =[]\n",
    "for x in list1:\n",
    "    if x!='':\n",
    "        list2.append(x)\n",
    "print(list2)"
   ]
  },
  {
   "cell_type": "code",
   "execution_count": 29,
   "id": "56b00176",
   "metadata": {},
   "outputs": [
    {
     "data": {
      "text/plain": [
       "['ABC', 'CDE', 'E']"
      ]
     },
     "execution_count": 29,
     "metadata": {},
     "output_type": "execute_result"
    }
   ],
   "source": [
    "list3= [x for x in list1  if x!=''] #list comprehension\n",
    "list3\n"
   ]
  },
  {
   "cell_type": "code",
   "execution_count": 30,
   "id": "e6e51bd6",
   "metadata": {},
   "outputs": [
    {
     "data": {
      "text/plain": [
       "['ABC', 'CDE', 'E']"
      ]
     },
     "execution_count": 30,
     "metadata": {},
     "output_type": "execute_result"
    }
   ],
   "source": [
    "list4 =[]\n",
    "def String1():\n",
    "    for x in list1:\n",
    "        if x!='':\n",
    "            list4.append(x)\n",
    "    return list4\n",
    "String1()"
   ]
  },
  {
   "cell_type": "code",
   "execution_count": 39,
   "id": "fae23da9",
   "metadata": {},
   "outputs": [
    {
     "data": {
      "text/plain": [
       "['ABC', 'CDE', 'E']"
      ]
     },
     "execution_count": 39,
     "metadata": {},
     "output_type": "execute_result"
    }
   ],
   "source": [
    "list6 = [x for x in list1 if len(x)!=0]\n",
    "list6"
   ]
  },
  {
   "cell_type": "code",
   "execution_count": 69,
   "id": "cdad9352",
   "metadata": {},
   "outputs": [
    {
     "name": "stdout",
     "output_type": "stream",
     "text": [
      "Original String = @N1M@L\n",
      "Letter Count = 3\n",
      "Number Count =  1\n",
      "Special Count = 2\n"
     ]
    }
   ],
   "source": [
    "letter = \"@N1M@L\"\n",
    "leter_count=0\n",
    "num_count = 0\n",
    "special_count =0\n",
    "char = []\n",
    "for x in letter:\n",
    "    if x.isalpha()==True:\n",
    "        leter_count = leter_count + 1\n",
    "    elif x.isalnum()==True:\n",
    "        num_count = num_count+1\n",
    "    else:\n",
    "        special_count+=1\n",
    "print(\"Original String =\", letter)\n",
    "print(\"Letter Count =\" , str(leter_count))\n",
    "print(\"Number Count = \", str(num_count))\n",
    "print(\"Special Count =\", str(special_count))\n",
    "   "
   ]
  },
  {
   "cell_type": "code",
   "execution_count": 115,
   "id": "4f8a92d1",
   "metadata": {},
   "outputs": [
    {
     "ename": "SyntaxError",
     "evalue": "invalid syntax (2940113719.py, line 12)",
     "output_type": "error",
     "traceback": [
      "\u001b[1;36m  File \u001b[1;32m\"C:\\Users\\dell i5\\AppData\\Local\\Temp\\ipykernel_15456\\2940113719.py\"\u001b[1;36m, line \u001b[1;32m12\u001b[0m\n\u001b[1;33m    break:\u001b[0m\n\u001b[1;37m         ^\u001b[0m\n\u001b[1;31mSyntaxError\u001b[0m\u001b[1;31m:\u001b[0m invalid syntax\n"
     ]
    }
   ],
   "source": [
    "a= [[1,0,0],\n",
    "  [0,1,0],\n",
    "  [0,0,1]]\n",
    "index1 = 0\n",
    "index2 = 0\n",
    "sum=0\n",
    "for x in a:\n",
    "    for y in x:\n",
    "        if index1==index2:\n",
    "            sum+= 1\n",
    "        else:\n",
    "            \n",
    "        index2+=1\n",
    "    index1+=1\n",
    "print(sum)\n",
    "    "
   ]
  },
  {
   "cell_type": "code",
   "execution_count": null,
   "id": "a22fc5f9",
   "metadata": {},
   "outputs": [],
   "source": []
  }
 ],
 "metadata": {
  "kernelspec": {
   "display_name": "Python 3 (ipykernel)",
   "language": "python",
   "name": "python3"
  },
  "language_info": {
   "codemirror_mode": {
    "name": "ipython",
    "version": 3
   },
   "file_extension": ".py",
   "mimetype": "text/x-python",
   "name": "python",
   "nbconvert_exporter": "python",
   "pygments_lexer": "ipython3",
   "version": "3.9.13"
  }
 },
 "nbformat": 4,
 "nbformat_minor": 5
}
