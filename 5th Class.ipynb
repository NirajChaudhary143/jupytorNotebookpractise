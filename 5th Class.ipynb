{
 "cells": [
  {
   "cell_type": "code",
   "execution_count": 5,
   "id": "1eb9b436",
   "metadata": {},
   "outputs": [
    {
     "name": "stdout",
     "output_type": "stream",
     "text": [
      "15\n"
     ]
    }
   ],
   "source": [
    "# lamda expresion in python\n",
    "x = lambda a : a + 10\n",
    "print(x(5))"
   ]
  },
  {
   "cell_type": "code",
   "execution_count": 10,
   "id": "c9742813",
   "metadata": {},
   "outputs": [
    {
     "name": "stdout",
     "output_type": "stream",
     "text": [
      "30\n"
     ]
    }
   ],
   "source": [
    "y = lambda a, b : a * b\n",
    "print(y(5,6))"
   ]
  },
  {
   "cell_type": "code",
   "execution_count": 11,
   "id": "d3a73498",
   "metadata": {},
   "outputs": [],
   "source": [
    "#list\n",
    "a = [1,2,3] #in list we can add new element\n",
    "#tuple\n",
    "b= {1,2,3} # in tuple we cannot add new element"
   ]
  },
  {
   "cell_type": "code",
   "execution_count": 32,
   "id": "ed5c64d1",
   "metadata": {},
   "outputs": [
    {
     "name": "stdout",
     "output_type": "stream",
     "text": [
      "positive list is [0, 2, 1]\n"
     ]
    }
   ],
   "source": [
    "args = [-2,-1,0,2,1]\n",
    "list1 = []\n",
    "def input(args):\n",
    "    for x in args:\n",
    "        if x>=0:\n",
    "            list1.append(x)\n",
    "    return list1\n",
    "print(\"positive list is \" + str(input(args)))"
   ]
  },
  {
   "cell_type": "code",
   "execution_count": 43,
   "id": "6149ce1a",
   "metadata": {},
   "outputs": [
    {
     "data": {
      "text/plain": [
       "[1, 2]"
      ]
     },
     "execution_count": 43,
     "metadata": {},
     "output_type": "execute_result"
    }
   ],
   "source": [
    "#print positive value in list\n",
    "input = [-2,-1,0,1,2]\n",
    "#list comprehensing\n",
    "newList = [x for x in input if x>0] # x is iterator , then loop , then  condition \n",
    "# List comprehension offers a shorter syntax when you want to create a new list based on the values of an existing list.\n",
    "#newlist = [expression for item in iterable if condition == True]\n",
    "newList"
   ]
  },
  {
   "cell_type": "code",
   "execution_count": 42,
   "id": "f1f15f68",
   "metadata": {},
   "outputs": [
    {
     "name": "stdout",
     "output_type": "stream",
     "text": [
      "Given list = [1, 2, 3, 4, 5, 6]\n",
      "odd list = [1, 3, 5]\n"
     ]
    }
   ],
   "source": [
    "input = [1,2,3,4,5,6]\n",
    "newList1 = [x for x in input if x%2!=0]\n",
    "print(\"Given list = \" + str(input))\n",
    "print(\"odd list = \" + str(newList1))"
   ]
  },
  {
   "cell_type": "code",
   "execution_count": 44,
   "id": "575e58da",
   "metadata": {},
   "outputs": [
    {
     "name": "stdout",
     "output_type": "stream",
     "text": [
      "zero division\n"
     ]
    }
   ],
   "source": [
    "#excpetion handling\n",
    "try:\n",
    "    print(7/0)\n",
    "except ZeroDivisionError:\n",
    "    print(\"zero division\")\n",
    "else:\n",
    "    print('else')"
   ]
  },
  {
   "cell_type": "markdown",
   "id": "09b8cc91",
   "metadata": {},
   "source": [
    "Python Class/Object"
   ]
  },
  {
   "cell_type": "code",
   "execution_count": null,
   "id": "7cd1bed4",
   "metadata": {},
   "outputs": [],
   "source": [
    "# Python is an object oriented programming language.\n",
    "\n",
    "# Almost everything in Python is an object, with its properties and methods.\n",
    "\n",
    "# A Class is like an object constructor, or a \"blueprint\" for creating objects."
   ]
  }
 ],
 "metadata": {
  "kernelspec": {
   "display_name": "Python 3 (ipykernel)",
   "language": "python",
   "name": "python3"
  },
  "language_info": {
   "codemirror_mode": {
    "name": "ipython",
    "version": 3
   },
   "file_extension": ".py",
   "mimetype": "text/x-python",
   "name": "python",
   "nbconvert_exporter": "python",
   "pygments_lexer": "ipython3",
   "version": "3.9.13"
  }
 },
 "nbformat": 4,
 "nbformat_minor": 5
}
