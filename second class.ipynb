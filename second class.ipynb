{
 "cells": [
  {
   "cell_type": "markdown",
   "id": "2237d5ba",
   "metadata": {},
   "source": [
    "Second Class of python"
   ]
  },
  {
   "cell_type": "code",
   "execution_count": 1,
   "id": "8410f84d",
   "metadata": {},
   "outputs": [],
   "source": [
    "#for loop in python"
   ]
  },
  {
   "cell_type": "code",
   "execution_count": 2,
   "id": "12d5bb52",
   "metadata": {},
   "outputs": [
    {
     "name": "stdout",
     "output_type": "stream",
     "text": [
      "apple\n",
      "graps\n"
     ]
    }
   ],
   "source": [
    "fruits = [\"apple\", \"banana\", \"graps\"]\n",
    "for x in fruits:\n",
    "    if x == \"banana\":\n",
    "        continue\n",
    "    print(x)"
   ]
  },
  {
   "cell_type": "code",
   "execution_count": null,
   "id": "528bbacd",
   "metadata": {},
   "outputs": [],
   "source": [
    "#The range() Function\n",
    "#To loop through a set of code a specified number of times, we can use the range() function,\n",
    "#The range() function returns a sequence of numbers, starting from 0 by default, and increments \n",
    "#by 1 (by default), and ends at a specified number."
   ]
  },
  {
   "cell_type": "code",
   "execution_count": 6,
   "id": "9570e87f",
   "metadata": {},
   "outputs": [
    {
     "name": "stdout",
     "output_type": "stream",
     "text": [
      "0\n",
      "2\n",
      "4\n",
      "6\n",
      "8\n"
     ]
    }
   ],
   "source": [
    "for a in range(0,10,2): #here 2 is increments\n",
    "    print(a)"
   ]
  },
  {
   "cell_type": "code",
   "execution_count": 7,
   "id": "aaac0ccf",
   "metadata": {},
   "outputs": [
    {
     "name": "stdout",
     "output_type": "stream",
     "text": [
      "0\n",
      "3\n",
      "6\n",
      "9\n",
      "12\n",
      "15\n",
      "18\n",
      "21\n",
      "24\n",
      "27\n",
      "30\n",
      "33\n",
      "36\n",
      "39\n",
      "42\n",
      "45\n",
      "48\n",
      "51\n",
      "54\n",
      "57\n",
      "60\n",
      "63\n",
      "66\n",
      "69\n",
      "72\n",
      "75\n",
      "78\n",
      "81\n",
      "84\n",
      "87\n",
      "90\n",
      "93\n",
      "96\n",
      "99\n"
     ]
    }
   ],
   "source": [
    "#Note that range(6) is not the values of 0 to 6, but the values 0 to 5.\n",
    "for a in range(0,100,3):\n",
    "    print(a)"
   ]
  },
  {
   "cell_type": "code",
   "execution_count": 8,
   "id": "f650fbba",
   "metadata": {},
   "outputs": [
    {
     "data": {
      "text/plain": [
       "list"
      ]
     },
     "execution_count": 8,
     "metadata": {},
     "output_type": "execute_result"
    }
   ],
   "source": [
    "a = [1,2,3]\n",
    "type(a)"
   ]
  },
  {
   "cell_type": "code",
   "execution_count": 11,
   "id": "724d7cd5",
   "metadata": {},
   "outputs": [
    {
     "name": "stdout",
     "output_type": "stream",
     "text": [
      "[1, 2, 3]\n"
     ]
    }
   ],
   "source": [
    "print(a)"
   ]
  },
  {
   "cell_type": "code",
   "execution_count": 12,
   "id": "5dd8d16b",
   "metadata": {},
   "outputs": [
    {
     "name": "stdout",
     "output_type": "stream",
     "text": [
      "1\n",
      "2\n",
      "3\n"
     ]
    }
   ],
   "source": [
    "for x in a:\n",
    "    print(x)\n",
    "    "
   ]
  },
  {
   "cell_type": "code",
   "execution_count": 24,
   "id": "edefbc41",
   "metadata": {},
   "outputs": [
    {
     "name": "stdout",
     "output_type": "stream",
     "text": [
      "0\n",
      "3\n"
     ]
    }
   ],
   "source": [
    "sum = 0\n",
    "for x in [1,2,3]:\n",
    "    sum1 = 0\n",
    "    sum=sum+1\n",
    "print(sum1)\n",
    "print(sum)"
   ]
  },
  {
   "cell_type": "markdown",
   "id": "a5aadcb4",
   "metadata": {},
   "source": [
    "    Function in python\n",
    "    syntax:\n",
    "        def fun_Name():\n",
    "            print()"
   ]
  },
  {
   "cell_type": "code",
   "execution_count": 25,
   "id": "89b1782d",
   "metadata": {},
   "outputs": [],
   "source": [
    "def sum(a,b):\n",
    "    return a+b"
   ]
  },
  {
   "cell_type": "code",
   "execution_count": 32,
   "id": "df927207",
   "metadata": {},
   "outputs": [
    {
     "name": "stdout",
     "output_type": "stream",
     "text": [
      "3\n"
     ]
    }
   ],
   "source": [
    "print(sum(1,2))"
   ]
  },
  {
   "cell_type": "code",
   "execution_count": 48,
   "id": "a740d558",
   "metadata": {},
   "outputs": [
    {
     "name": "stdout",
     "output_type": "stream",
     "text": [
      "0\n",
      "0\n"
     ]
    }
   ],
   "source": [
    "sum = 0\n",
    "newSum=0\n",
    "def SumFunc(a,b):\n",
    "    newSum=2\n",
    "    sum = sum + newSum\n",
    "#print(SumFunc(1,2))\n",
    "print(sum)\n",
    "print(newSum)"
   ]
  },
  {
   "cell_type": "code",
   "execution_count": 15,
   "id": "cebe4e30",
   "metadata": {},
   "outputs": [
    {
     "name": "stdout",
     "output_type": "stream",
     "text": [
      "1*2*3=6\n"
     ]
    }
   ],
   "source": [
    "def product(a,b,c):\n",
    "    print(str(a) + \"*\" +str(b) + \"*\" + str(c) + \"=\" + str(a*b*c))\n",
    "product(1,2,3)\n"
   ]
  },
  {
   "cell_type": "code",
   "execution_count": 55,
   "id": "21e078ab",
   "metadata": {},
   "outputs": [
    {
     "name": "stdout",
     "output_type": "stream",
     "text": [
      "1\n",
      "2\n"
     ]
    }
   ],
   "source": [
    "def product(*args):\n",
    "    for a in args:\n",
    "        print(a)\n",
    "product(1,2)"
   ]
  },
  {
   "cell_type": "code",
   "execution_count": null,
   "id": "8027bfa5",
   "metadata": {},
   "outputs": [],
   "source": [
    "#tuples represent ()\n",
    "#list represents []"
   ]
  }
 ],
 "metadata": {
  "kernelspec": {
   "display_name": "Python 3 (ipykernel)",
   "language": "python",
   "name": "python3"
  },
  "language_info": {
   "codemirror_mode": {
    "name": "ipython",
    "version": 3
   },
   "file_extension": ".py",
   "mimetype": "text/x-python",
   "name": "python",
   "nbconvert_exporter": "python",
   "pygments_lexer": "ipython3",
   "version": "3.9.13"
  }
 },
 "nbformat": 4,
 "nbformat_minor": 5
}
