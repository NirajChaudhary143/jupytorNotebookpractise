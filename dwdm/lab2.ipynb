{
 "cells": [
  {
   "cell_type": "code",
   "execution_count": 1,
   "id": "12c5c48f",
   "metadata": {},
   "outputs": [],
   "source": [
    "import pandas as pd\n"
   ]
  },
  {
   "cell_type": "code",
   "execution_count": 2,
   "id": "703d6495",
   "metadata": {},
   "outputs": [],
   "source": [
    "class MinMaxNorm:\n",
    "  def scale(self,d):\n",
    "    for i in d.columns:\n",
    "      min=d[i].min()\n",
    "      max=d[i].max()\n",
    "      d[i]=(d[i]-min)/(max-min)\n",
    "    return d"
   ]
  },
  {
   "cell_type": "code",
   "execution_count": 3,
   "id": "339facd2",
   "metadata": {},
   "outputs": [
    {
     "name": "stdout",
     "output_type": "stream",
     "text": [
      "Original Data\n",
      "   Salary  Age\n",
      "0   45000   42\n",
      "1   32000   26\n",
      "2   58000   48\n",
      "3   37000   32\n"
     ]
    }
   ],
   "source": [
    "data=pd.DataFrame([[45000,42],[32000,26],[58000,48],[37000,32]],columns=['Salary','Age'])\n",
    "print(\"Original Data\")\n",
    "print(data)"
   ]
  },
  {
   "cell_type": "code",
   "execution_count": 4,
   "id": "00a327fb",
   "metadata": {},
   "outputs": [
    {
     "name": "stdout",
     "output_type": "stream",
     "text": [
      "\n",
      "Scaled Data\n",
      "     Salary       Age\n",
      "0  0.500000  0.727273\n",
      "1  0.000000  0.000000\n",
      "2  1.000000  1.000000\n",
      "3  0.192308  0.272727\n"
     ]
    }
   ],
   "source": [
    "s=MinMaxNorm()\n",
    "print(\"\\nScaled Data\")\n",
    "df=s.scale(data)\n",
    "print(df)"
   ]
  }
 ],
 "metadata": {
  "kernelspec": {
   "display_name": "Python 3 (ipykernel)",
   "language": "python",
   "name": "python3"
  },
  "language_info": {
   "codemirror_mode": {
    "name": "ipython",
    "version": 3
   },
   "file_extension": ".py",
   "mimetype": "text/x-python",
   "name": "python",
   "nbconvert_exporter": "python",
   "pygments_lexer": "ipython3",
   "version": "3.9.13"
  }
 },
 "nbformat": 4,
 "nbformat_minor": 5
}
