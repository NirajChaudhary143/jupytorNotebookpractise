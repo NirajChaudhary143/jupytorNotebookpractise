{
 "cells": [
  {
   "cell_type": "code",
   "execution_count": 1,
   "id": "e13cfc85",
   "metadata": {},
   "outputs": [],
   "source": [
    "import numpy as np\n",
    "import pandas as pd\n"
   ]
  },
  {
   "cell_type": "code",
   "execution_count": 2,
   "id": "76718598",
   "metadata": {},
   "outputs": [
    {
     "name": "stdout",
     "output_type": "stream",
     "text": [
      "Original Data\n",
      "   Salary  Age\n",
      "0   45000   42\n",
      "1   32000   26\n",
      "2   58000   48\n",
      "3   37000   32\n",
      "\n",
      "Scaled Data\n",
      "     Salary       Age\n",
      "0  0.176318  0.506803\n",
      "1 -0.969750 -1.114967\n",
      "2  1.322386  1.114967\n",
      "3 -0.528954 -0.506803\n"
     ]
    }
   ],
   "source": [
    "class StandardNorm:\n",
    "  def scale(self,d):\n",
    "    for i in d.columns:\n",
    "      mean=d[i].mean()\n",
    "      sd=d[i].std()      \n",
    "      d[i]=(d[i]-mean)/sd     \n",
    "    return d\n",
    "data=pd.DataFrame([[45000,42],[32000,26],[58000,48],[37000,32]],columns=['Salary','Age'])\n",
    "print(\"Original Data\")\n",
    "print(data)\n",
    "s=StandardNorm()\n",
    "df=s.scale(data)\n",
    "print(\"\\nScaled Data\")\n",
    "print(df)"
   ]
  },
  {
   "cell_type": "code",
   "execution_count": null,
   "id": "0701d6c2",
   "metadata": {},
   "outputs": [],
   "source": []
  }
 ],
 "metadata": {
  "kernelspec": {
   "display_name": "Python 3 (ipykernel)",
   "language": "python",
   "name": "python3"
  },
  "language_info": {
   "codemirror_mode": {
    "name": "ipython",
    "version": 3
   },
   "file_extension": ".py",
   "mimetype": "text/x-python",
   "name": "python",
   "nbconvert_exporter": "python",
   "pygments_lexer": "ipython3",
   "version": "3.9.13"
  }
 },
 "nbformat": 4,
 "nbformat_minor": 5
}
