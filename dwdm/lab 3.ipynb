{
 "cells": [
  {
   "cell_type": "code",
   "execution_count": 1,
   "id": "87c6f991",
   "metadata": {},
   "outputs": [],
   "source": [
    "import pandas as pd\n",
    "import numpy as np"
   ]
  },
  {
   "cell_type": "code",
   "execution_count": 2,
   "id": "aafe4db2",
   "metadata": {},
   "outputs": [
    {
     "name": "stdout",
     "output_type": "stream",
     "text": [
      "Original Data\n",
      "   First Name  Gender    Salary  Bonus %                  Team\n",
      "0     Douglas    Male   97308.0    6.945             Marketing\n",
      "1     Douglas    Male   97308.0    6.945             Marketing\n",
      "2     Douglas    Male   97310.0    6.945             Marketing\n",
      "3      Thomas    Male   61933.0    4.170                   NaN\n",
      "4       Maria  Female  130590.0   11.858               Finance\n",
      "5       Jerry    Male  138705.0    9.340                   Fin\n",
      "6       Larry    Male       NaN    1.389       Client Services\n",
      "7      Dennis    Male  115163.0   10.125                 Legal\n",
      "8        Ruby  Female   65476.0   10.012               Product\n",
      "9         NaN  Female   45906.0   11.598                   Fin\n",
      "10     Angela  Female   95570.0   18.523           Engineering\n",
      "11      Maria  Female  130590.0   11.858               Finance\n",
      "12    Frances  Female  139852.0    7.524  Business Development\n",
      "13     Louise  Female   63241.0   15.132                   NaN\n",
      "14      Julie  Female  102508.0   12.637                 Legal\n",
      "15    Brandon    Male  112807.0   17.492       Human Resources\n",
      "16       Gary    Male  109831.0    5.831                 Sales\n",
      "17   Kimberly  Female       NaN   14.543               Finance\n",
      "18    Lillian  Female   59414.0    1.256               Product\n",
      "19     Jeremy    Male   90370.0    7.369       Human Resources\n",
      "20      Shawn    Male  111737.0    6.414               Product\n",
      "21      Diana  Female  132940.0   19.082       Client Services\n",
      "22      Donna  Female   81014.0    1.894               Product\n",
      "23       Lois     NaN   64714.0    4.934                 Legal\n",
      "24    Matthew    Male  100612.0   13.645                   Mkt\n"
     ]
    }
   ],
   "source": [
    "data = pd.read_csv('employees.csv')\n",
    "print(\"Original Data\")\n",
    "print(data[0:25])"
   ]
  },
  {
   "cell_type": "code",
   "execution_count": 3,
   "id": "0a339789",
   "metadata": {},
   "outputs": [
    {
     "name": "stdout",
     "output_type": "stream",
     "text": [
      "Cleaned Data\n",
      "   First Name  Gender         Salary  Bonus %                  Team\n",
      "0     Douglas    Male   97308.000000    6.945             Marketing\n",
      "1     Douglas    Male   97308.000000    6.945             Marketing\n",
      "2     Douglas    Male   97310.000000    6.945             Marketing\n",
      "3      Thomas    Male   61933.000000    4.170                   NaN\n",
      "4       Maria  Female  130590.000000   11.858               Finance\n",
      "5       Jerry    Male  138705.000000    9.340                   Fin\n",
      "6       Larry    Male   90754.204795    1.389       Client Services\n",
      "7      Dennis    Male  115163.000000   10.125                 Legal\n",
      "8        Ruby  Female   65476.000000   10.012               Product\n",
      "9         NaN  Female   45906.000000   11.598                   Fin\n",
      "10     Angela  Female   95570.000000   18.523           Engineering\n",
      "11      Maria  Female  130590.000000   11.858               Finance\n",
      "12    Frances  Female  139852.000000    7.524  Business Development\n",
      "13     Louise  Female   63241.000000   15.132                   NaN\n",
      "14      Julie  Female  102508.000000   12.637                 Legal\n",
      "15    Brandon    Male  112807.000000   17.492       Human Resources\n",
      "16       Gary    Male  109831.000000    5.831                 Sales\n",
      "17   Kimberly  Female   90754.204795   14.543               Finance\n",
      "18    Lillian  Female   59414.000000    1.256               Product\n",
      "19     Jeremy    Male   90370.000000    7.369       Human Resources\n",
      "20      Shawn    Male  111737.000000    6.414               Product\n",
      "21      Diana  Female  132940.000000   19.082       Client Services\n",
      "22      Donna  Female   81014.000000    1.894               Product\n",
      "23       Lois     NaN   64714.000000    4.934                 Legal\n",
      "24    Matthew    Male  100612.000000   13.645                   Mkt\n",
      "Original Data\n",
      "   First Name  Gender    Salary  Bonus %                  Team\n",
      "0     Douglas    Male   97308.0    6.945             Marketing\n",
      "1     Douglas    Male   97308.0    6.945             Marketing\n",
      "2     Douglas    Male   97310.0    6.945             Marketing\n",
      "3      Thomas    Male   61933.0    4.170                   NaN\n",
      "4       Maria  Female  130590.0   11.858               Finance\n",
      "5       Jerry    Male  138705.0    9.340                   Fin\n",
      "6       Larry    Male       NaN    1.389       Client Services\n",
      "7      Dennis    Male  115163.0   10.125                 Legal\n",
      "8        Ruby  Female   65476.0   10.012               Product\n",
      "9         NaN  Female   45906.0   11.598                   Fin\n",
      "10     Angela  Female   95570.0   18.523           Engineering\n",
      "11      Maria  Female  130590.0   11.858               Finance\n",
      "12    Frances  Female  139852.0    7.524  Business Development\n",
      "13     Louise  Female   63241.0   15.132                   NaN\n",
      "14      Julie  Female  102508.0   12.637                 Legal\n",
      "15    Brandon    Male  112807.0   17.492       Human Resources\n",
      "16       Gary    Male  109831.0    5.831                 Sales\n",
      "17   Kimberly  Female       NaN   14.543               Finance\n",
      "18    Lillian  Female   59414.0    1.256               Product\n",
      "19     Jeremy    Male   90370.0    7.369       Human Resources\n",
      "20      Shawn    Male  111737.0    6.414               Product\n",
      "21      Diana  Female  132940.0   19.082       Client Services\n",
      "22      Donna  Female   81014.0    1.894               Product\n",
      "23       Lois     NaN   64714.0    4.934                 Legal\n",
      "24    Matthew    Male  100612.0   13.645                   Mkt\n"
     ]
    }
   ],
   "source": [
    "# Filling missing values with mean \n",
    "data['Salary']=data['Salary'].fillna(data['Salary'].mean())\n",
    "print(\"Cleaned Data\")\n",
    "print(data[0:25])\n",
    "data = pd.read_csv('employees.csv')\n",
    "print(\"Original Data\")\n",
    "print(data[0:25])"
   ]
  },
  {
   "cell_type": "code",
   "execution_count": 4,
   "id": "736cd8e7",
   "metadata": {},
   "outputs": [
    {
     "name": "stdout",
     "output_type": "stream",
     "text": [
      "Cleaned Data\n",
      "   First Name  Gender    Salary  Bonus %                  Team\n",
      "0     Douglas    Male   97308.0    6.945             Marketing\n",
      "1     Douglas    Male   97308.0    6.945             Marketing\n",
      "2     Douglas    Male   97310.0    6.945             Marketing\n",
      "3      Thomas    Male   61933.0    4.170                   NaN\n",
      "4       Maria  Female  130590.0   11.858               Finance\n",
      "5       Jerry    Male  138705.0    9.340                   Fin\n",
      "6       Larry    Male  126934.0    1.389       Client Services\n",
      "7      Dennis    Male  115163.0   10.125                 Legal\n",
      "8        Ruby  Female   65476.0   10.012               Product\n",
      "9         NaN  Female   45906.0   11.598                   Fin\n",
      "10     Angela  Female   95570.0   18.523           Engineering\n",
      "11      Maria  Female  130590.0   11.858               Finance\n",
      "12    Frances  Female  139852.0    7.524  Business Development\n",
      "13     Louise  Female   63241.0   15.132                   NaN\n",
      "14      Julie  Female  102508.0   12.637                 Legal\n",
      "15    Brandon    Male  112807.0   17.492       Human Resources\n",
      "16       Gary    Male  109831.0    5.831                 Sales\n",
      "17   Kimberly  Female   84622.5   14.543               Finance\n",
      "18    Lillian  Female   59414.0    1.256               Product\n",
      "19     Jeremy    Male   90370.0    7.369       Human Resources\n",
      "20      Shawn    Male  111737.0    6.414               Product\n",
      "21      Diana  Female  132940.0   19.082       Client Services\n",
      "22      Donna  Female   81014.0    1.894               Product\n",
      "23       Lois     NaN   64714.0    4.934                 Legal\n",
      "24    Matthew    Male  100612.0   13.645                   Mkt\n"
     ]
    }
   ],
   "source": [
    "# Filling missing values withi\n",
    "data['Salary']=data['Salary'].interpolate(method=\"linear\")\n",
    "print(\"Cleaned Data\")\n",
    "print(data[0:25])"
   ]
  },
  {
   "cell_type": "code",
   "execution_count": null,
   "id": "6c48513c",
   "metadata": {},
   "outputs": [],
   "source": []
  }
 ],
 "metadata": {
  "kernelspec": {
   "display_name": "Python 3 (ipykernel)",
   "language": "python",
   "name": "python3"
  },
  "language_info": {
   "codemirror_mode": {
    "name": "ipython",
    "version": 3
   },
   "file_extension": ".py",
   "mimetype": "text/x-python",
   "name": "python",
   "nbconvert_exporter": "python",
   "pygments_lexer": "ipython3",
   "version": "3.9.13"
  }
 },
 "nbformat": 4,
 "nbformat_minor": 5
}
