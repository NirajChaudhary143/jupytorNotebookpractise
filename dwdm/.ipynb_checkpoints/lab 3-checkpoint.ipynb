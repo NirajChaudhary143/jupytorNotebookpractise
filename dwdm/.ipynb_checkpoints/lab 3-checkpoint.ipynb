{
 "cells": [
  {
   "cell_type": "code",
   "execution_count": null,
   "id": "d9659761",
   "metadata": {},
   "outputs": [],
   "source": [
    "import pandas as pd\n",
    "import numpy as np"
   ]
  },
  {
   "cell_type": "code",
   "execution_count": null,
   "id": "7fc3f8a7",
   "metadata": {},
   "outputs": [],
   "source": [
    "data = pd.read_csv('employees.csv')\n",
    "print(\"Original Data\")\n",
    "print(data[0:25])"
   ]
  },
  {
   "cell_type": "code",
   "execution_count": null,
   "id": "d770c5c6",
   "metadata": {},
   "outputs": [],
   "source": [
    "# Filling missing values with mean \n",
    "data['Salary']=data['Salary'].fillna(data['Salary'].mean())\n",
    "print(\"Cleaned Data\")\n",
    "print(data[0:25])\n",
    "data = pd.read_csv('employees.csv')\n",
    "print(\"Original Data\")\n",
    "print(data[0:25])"
   ]
  },
  {
   "cell_type": "code",
   "execution_count": null,
   "id": "2246bfd9",
   "metadata": {},
   "outputs": [],
   "source": [
    "# Filling missing values withi\n",
    "data['Salary']=data['Salary'].interpolate(method=\"linear\")\n",
    "print(\"Cleaned Data\")\n",
    "print(data[0:25])"
   ]
  }
 ],
 "metadata": {
  "kernelspec": {
   "display_name": "Python 3 (ipykernel)",
   "language": "python",
   "name": "python3"
  },
  "language_info": {
   "codemirror_mode": {
    "name": "ipython",
    "version": 3
   },
   "file_extension": ".py",
   "mimetype": "text/x-python",
   "name": "python",
   "nbconvert_exporter": "python",
   "pygments_lexer": "ipython3",
   "version": "3.9.13"
  }
 },
 "nbformat": 4,
 "nbformat_minor": 5
}
