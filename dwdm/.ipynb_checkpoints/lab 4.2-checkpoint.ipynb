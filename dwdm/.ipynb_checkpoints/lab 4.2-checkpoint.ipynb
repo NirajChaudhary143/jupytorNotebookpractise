{
 "cells": [
  {
   "cell_type": "code",
   "execution_count": null,
   "id": "af5b054b",
   "metadata": {},
   "outputs": [],
   "source": [
    "# 4.2 Sample code to do FP-Growth in Python\n",
    "import pyfpgrowth\n",
    "# Creating Sample Transactions\n",
    "transactions = [\n",
    "     ['Milk', 'Bread', 'Saffron'],\n",
    "     ['Milk', 'Saffron'],\n",
    "     ['Bread', 'Saffron','Wafer'],\n",
    "     ['Bread','Wafer'],\n",
    " ]\n",
    " \n",
    "#Finding the frequent patterns with min support threshold=0.5\n",
    "FrequentPatterns=pyfpgrowth.find_frequent_patterns(transactions=transactions,support_threshold=0.5)\n",
    "print(FrequentPatterns)\n",
    "\n",
    "# Generating rules with min confidence threshold=0.5\n",
    "print(\"Generating rules with min confidence threshold=0.5\")\n",
    "Rules=pyfpgrowth.generate_association_rules(patterns=FrequentPatterns,confidence_threshold=0.5)\n",
    "print(Rules)"
   ]
  }
 ],
 "metadata": {
  "kernelspec": {
   "display_name": "Python 3 (ipykernel)",
   "language": "python",
   "name": "python3"
  },
  "language_info": {
   "codemirror_mode": {
    "name": "ipython",
    "version": 3
   },
   "file_extension": ".py",
   "mimetype": "text/x-python",
   "name": "python",
   "nbconvert_exporter": "python",
   "pygments_lexer": "ipython3",
   "version": "3.9.13"
  }
 },
 "nbformat": 4,
 "nbformat_minor": 5
}
