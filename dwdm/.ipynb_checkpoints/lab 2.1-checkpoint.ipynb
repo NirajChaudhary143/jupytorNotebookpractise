{
 "cells": [
  {
   "cell_type": "code",
   "execution_count": null,
   "id": "e8e512f8",
   "metadata": {},
   "outputs": [],
   "source": [
    "#Lab 2.1 : Data Cleaning\n",
    "import pandas as pd\n",
    "import numpy as np\n",
    "\n",
    "data = pd.read_csv('D:/python_projects/employees.csv')\n",
    "print(\"Original Data\")\n",
    "print(data[0:25])\n",
    "\n",
    "# Removing missing values\n",
    "data=data.dropna(axis=0)\n",
    "\n",
    "# Removing duplicate rows\n",
    "data.drop_duplicates(keep='first',inplace=True)\n",
    "\n",
    "# Removing column Boonus %\n",
    "del data['Bonus %']\n",
    "\n",
    "# Correcting Inconsitencies among values\n",
    "data['Team']=data['Team'].str.replace('Fin','Finance')\n",
    "data['Team']=data['Team'].str.replace('Mkt','Marketing')\n",
    "data['Team']=data['Team'].str.replace('Financeance','Finance')\n",
    "\n",
    "print(\"Cleaned Data\")\n",
    "print(data[0:25])\n",
    "data.to_csv('D:/python_projects/employees_cleaned.csv', index=False)\n",
    "print(\"Successfully Cleaned...\")"
   ]
  }
 ],
 "metadata": {
  "kernelspec": {
   "display_name": "Python 3 (ipykernel)",
   "language": "python",
   "name": "python3"
  },
  "language_info": {
   "codemirror_mode": {
    "name": "ipython",
    "version": 3
   },
   "file_extension": ".py",
   "mimetype": "text/x-python",
   "name": "python",
   "nbconvert_exporter": "python",
   "pygments_lexer": "ipython3",
   "version": "3.9.13"
  }
 },
 "nbformat": 4,
 "nbformat_minor": 5
}
