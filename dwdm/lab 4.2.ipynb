{
 "cells": [
  {
   "cell_type": "code",
   "execution_count": 9,
   "id": "a052485f",
   "metadata": {},
   "outputs": [
    {
     "name": "stdout",
     "output_type": "stream",
     "text": [
      "Defaulting to user installation because normal site-packages is not writeable\n",
      "Collecting pyfpgrowth\n",
      "  Using cached pyfpgrowth-1.0.tar.gz (1.6 MB)\n",
      "  Preparing metadata (setup.py): started\n",
      "  Preparing metadata (setup.py): finished with status 'done'\n",
      "Building wheels for collected packages: pyfpgrowth\n",
      "  Building wheel for pyfpgrowth (setup.py): started\n",
      "  Building wheel for pyfpgrowth (setup.py): finished with status 'done'\n",
      "  Created wheel for pyfpgrowth: filename=pyfpgrowth-1.0-py2.py3-none-any.whl size=5488 sha256=59f9fe5ad0da0187b0400ae329514871f2abb1f1bad649370fb9e0879005f65c\n",
      "  Stored in directory: c:\\users\\dell i5\\appdata\\local\\pip\\cache\\wheels\\1d\\15\\f3\\26c63bd6040ea8f62d59dba0b4fe4dffe551a0f93879734a91\n",
      "Successfully built pyfpgrowth\n",
      "Installing collected packages: pyfpgrowth\n",
      "Successfully installed pyfpgrowth-1.0\n",
      "Note: you may need to restart the kernel to use updated packages.\n"
     ]
    }
   ],
   "source": [
    "pip install pyfpgrowth\n"
   ]
  },
  {
   "cell_type": "code",
   "execution_count": 10,
   "id": "e5aa4d55",
   "metadata": {},
   "outputs": [
    {
     "name": "stdout",
     "output_type": "stream",
     "text": [
      "{('Milk',): 2, ('Milk', 'Saffron'): 2, ('Bread', 'Milk'): 1, ('Bread', 'Milk', 'Saffron'): 1, ('Wafer',): 2, ('Saffron', 'Wafer'): 1, ('Bread', 'Wafer'): 2, ('Bread', 'Saffron', 'Wafer'): 1, ('Bread',): 3, ('Saffron',): 3, ('Bread', 'Saffron'): 2}\n",
      "Generating rules with min confidence threshold=0.5\n",
      "{('Milk',): (('Bread', 'Saffron'), 0.5), ('Saffron',): (('Bread',), 0.6666666666666666), ('Bread', 'Milk'): (('Saffron',), 1.0), ('Bread', 'Saffron'): (('Wafer',), 0.5), ('Milk', 'Saffron'): (('Bread',), 0.5), ('Wafer',): (('Bread', 'Saffron'), 0.5), ('Bread',): (('Saffron',), 0.6666666666666666), ('Bread', 'Wafer'): (('Saffron',), 0.5), ('Saffron', 'Wafer'): (('Bread',), 1.0)}\n"
     ]
    }
   ],
   "source": [
    "# 4.2 Sample code to do FP-Growth in Python\n",
    "import pyfpgrowth\n",
    "# Creating Sample Transactions\n",
    "transactions = [\n",
    "     ['Milk', 'Bread', 'Saffron'],\n",
    "     ['Milk', 'Saffron'],\n",
    "     ['Bread', 'Saffron','Wafer'],\n",
    "     ['Bread','Wafer'],\n",
    " ]\n",
    " \n",
    "#Finding the frequent patterns with min support threshold=0.5\n",
    "FrequentPatterns=pyfpgrowth.find_frequent_patterns(transactions=transactions,support_threshold=0.5)\n",
    "print(FrequentPatterns)\n",
    "\n",
    "# Generating rules with min confidence threshold=0.5\n",
    "print(\"Generating rules with min confidence threshold=0.5\")\n",
    "Rules=pyfpgrowth.generate_association_rules(patterns=FrequentPatterns,confidence_threshold=0.5)\n",
    "print(Rules)"
   ]
  },
  {
   "cell_type": "code",
   "execution_count": null,
   "id": "fb2f35ad",
   "metadata": {},
   "outputs": [],
   "source": []
  }
 ],
 "metadata": {
  "kernelspec": {
   "display_name": "Python 3 (ipykernel)",
   "language": "python",
   "name": "python3"
  },
  "language_info": {
   "codemirror_mode": {
    "name": "ipython",
    "version": 3
   },
   "file_extension": ".py",
   "mimetype": "text/x-python",
   "name": "python",
   "nbconvert_exporter": "python",
   "pygments_lexer": "ipython3",
   "version": "3.9.13"
  }
 },
 "nbformat": 4,
 "nbformat_minor": 5
}
