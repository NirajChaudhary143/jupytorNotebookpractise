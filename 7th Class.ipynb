{
 "cells": [
  {
   "cell_type": "markdown",
   "id": "e6163f1c",
   "metadata": {},
   "source": [
    "# Class / Objects"
   ]
  },
  {
   "cell_type": "code",
   "execution_count": 13,
   "id": "9e1da07c",
   "metadata": {},
   "outputs": [
    {
     "name": "stdout",
     "output_type": "stream",
     "text": [
      "Name = Niraj\n",
      "Department = CSIT\n"
     ]
    }
   ],
   "source": [
    "class myClas:\n",
    "    college = \"Nagarjuna College\" #class variable\n",
    "    def __init__(self,name,depart): #constructor in Python\n",
    "        self.name=name #instance variable\n",
    "        self.depart=depart #instance variable\n",
    "    def Detail(self):\n",
    "        print(\"Name =\",self.name)\n",
    "        print(\"Department =\",self.depart)\n",
    "newClass = myClas(\"Niraj\",\"CSIT\")\n",
    "newClass.Detail()"
   ]
  },
  {
   "cell_type": "code",
   "execution_count": 40,
   "id": "46cdfd57",
   "metadata": {},
   "outputs": [],
   "source": [
    "#global Variable"
   ]
  },
  {
   "cell_type": "code",
   "execution_count": 66,
   "id": "f09d6246",
   "metadata": {},
   "outputs": [
    {
     "name": "stdout",
     "output_type": "stream",
     "text": [
      "Initial vlaue of self is 1\n",
      "Add of 1 + 2 = 3\n",
      "self value automatically Updated to 3\n",
      "Substraction of 3 - 2 = 1\n",
      "Decrement = 1\n"
     ]
    }
   ],
   "source": [
    "class Counter:\n",
    "    def __init__(self,n1):\n",
    "        self.n1= n1\n",
    "    def add(self,n2):\n",
    "        print(\"Add of\",str(self.n1),\"+\",str(n2),\"=\",self.n1+n2)\n",
    "        self.n1=self.n1+n2\n",
    "    def substract(self,n2):\n",
    "        print(\"Substraction of\",str(self.n1),\"-\",str(n2),\"=\",self.n1-n2)\n",
    "        self.n1=self.n1-n2\n",
    "newClass1 = Counter(1)\n",
    "print(\"Initial vlaue of self is\",newClass1.n1)\n",
    "newClass1.add(2)\n",
    "print(\"self value automatically Updated to\",newClass1.n1)\n",
    "newClass1.substract(2)\n",
    "print(\"Decrement =\",newClass1.n1)"
   ]
  },
  {
   "cell_type": "code",
   "execution_count": 85,
   "id": "97a355fb",
   "metadata": {},
   "outputs": [
    {
     "name": "stdout",
     "output_type": "stream",
     "text": [
      "Animal name is Cat\n"
     ]
    }
   ],
   "source": [
    "class Animal:\n",
    "    def __init__(self,name):\n",
    "        self.name=name\n",
    "    def showDetail(self):\n",
    "        print(\"Animal name is\",self.name)\n",
    "NewClass1 = Animal('Cat')\n",
    "NewClass1.showDetail()"
   ]
  },
  {
   "cell_type": "markdown",
   "id": "083541a8",
   "metadata": {},
   "source": [
    "# Module\n",
    "    file-Python Code made by another users"
   ]
  },
  {
   "cell_type": "code",
   "execution_count": 92,
   "id": "bf5aef0e",
   "metadata": {},
   "outputs": [
    {
     "ename": "ModuleNotFoundError",
     "evalue": "No module named 'mod'",
     "output_type": "error",
     "traceback": [
      "\u001b[1;31m---------------------------------------------------------------------------\u001b[0m",
      "\u001b[1;31mModuleNotFoundError\u001b[0m                       Traceback (most recent call last)",
      "\u001b[1;32m~\\AppData\\Local\\Temp\\ipykernel_18528\\2768589761.py\u001b[0m in \u001b[0;36m<module>\u001b[1;34m\u001b[0m\n\u001b[1;32m----> 1\u001b[1;33m \u001b[1;32mimport\u001b[0m \u001b[0mmod\u001b[0m\u001b[1;33m\u001b[0m\u001b[1;33m\u001b[0m\u001b[0m\n\u001b[0m\u001b[0;32m      2\u001b[0m \u001b[0mprint\u001b[0m\u001b[1;33m(\u001b[0m\u001b[0mmod\u001b[0m\u001b[1;33m.\u001b[0m\u001b[0madd\u001b[0m\u001b[1;33m(\u001b[0m\u001b[1;36m1\u001b[0m\u001b[1;33m,\u001b[0m\u001b[1;36m2\u001b[0m\u001b[1;33m)\u001b[0m\u001b[1;33m)\u001b[0m\u001b[1;33m\u001b[0m\u001b[1;33m\u001b[0m\u001b[0m\n",
      "\u001b[1;31mModuleNotFoundError\u001b[0m: No module named 'mod'"
     ]
    }
   ],
   "source": [
    "import mod\n",
    "print(mod.add(1,2))"
   ]
  },
  {
   "cell_type": "code",
   "execution_count": null,
   "id": "70cf1455",
   "metadata": {},
   "outputs": [],
   "source": []
  }
 ],
 "metadata": {
  "kernelspec": {
   "display_name": "Python 3 (ipykernel)",
   "language": "python",
   "name": "python3"
  },
  "language_info": {
   "codemirror_mode": {
    "name": "ipython",
    "version": 3
   },
   "file_extension": ".py",
   "mimetype": "text/x-python",
   "name": "python",
   "nbconvert_exporter": "python",
   "pygments_lexer": "ipython3",
   "version": "3.9.13"
  }
 },
 "nbformat": 4,
 "nbformat_minor": 5
}
